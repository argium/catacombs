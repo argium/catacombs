{
 "cells": [
  {
   "cell_type": "code",
   "execution_count": null,
   "metadata": {},
   "outputs": [
    {
     "name": "stdout",
     "output_type": "stream",
     "text": [
      "JYPFFQVY [10, 25, 16, 6, 6, 17, 22, 25]\n",
      "IXNCDQTU [9, 24, 14, 3, 4, 17, 20, 21]\n",
      "CIWJWLHF [3, 9, 23, 10, 23, 12, 8, 6]\n",
      "HDHDG GH [8, 4, 8, 4, 7, 0, 7, 8]\n"
     ]
    }
   ],
   "source": [
    "zeroth_alphabet=' ABCDEFGHIJKLMNOPQRSTUVWXYZ'\n",
    "\n",
    "CODE  = \"JYPFFQVY\"\n",
    "DATE  = \"11232024\"\n",
    "CODE2 = \"FORTHELO\"\n",
    "CODE3 = \"VEOFPLAY\"\n",
    "\n",
    "def pprint(s):\n",
    "    print(s + \" \" + str([zeroth_alphabet.index(c) for c in s]))\n",
    "\n",
    "def shift(text, offsets, alphabet):\n",
    "    result = ''\n",
    "\n",
    "    for i in range(len(text)):\n",
    "        letter_n = alphabet.index(text[i])\n",
    "        offset = offsets[i]\n",
    "        offset = int(offset) if offset.isdigit() else alphabet.index(offset)\n",
    "        value = (letter_n - offset) % len(alphabet)\n",
    "        result += alphabet[value]\n",
    "\n",
    "    pprint(result)\n",
    "    return result\n",
    "\n",
    "a = shift(CODE, DATE, zeroth_alphabet)\n",
    "b = shift(a, CODE2, zeroth_alphabet)\n",
    "c = shift(b, CODE3, zeroth_alphabet)"
   ]
  }
 ],
 "metadata": {
  "kernelspec": {
   "display_name": "Python 3",
   "language": "python",
   "name": "python3"
  },
  "language_info": {
   "name": "python",
   "version": "3.12.8"
  }
 },
 "nbformat": 4,
 "nbformat_minor": 2
}
