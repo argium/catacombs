{
 "cells": [
  {
   "cell_type": "code",
   "execution_count": 62,
   "metadata": {},
   "outputs": [],
   "source": [
    "plaque = \"JYPFFQVY\"\n",
    "\n",
    "\n",
    "# \"IATIIFFTFF\" \n",
    "# [5, 6, 7, 4, 4, 7, 6, 7, 2, 2]\n",
    "\n",
    "\n",
    "# The missing rhyme         PLAY\n",
    "# The crystal's glow        18 <-- the missing owl watcher book.  Could be XVIII, too.\n",
    "# The stars above           ASTRAL\n",
    "# The space below           JYPFFQVY\n",
    "# The time of now           11232024\n",
    "# for long ago              11232004\n",
    "\n",
    "# The missing rhyme         PLAY\n",
    "# The crystal's glow        SHADOWS   18 <-- the missing owl watcher book.  Could be XVIII, too.\n",
    "# The stars above           ASTRAL\n",
    "# The space below           JYPFFQVY\n",
    "# The time of now           11232024\n",
    "# for long ago              11232004\n",
    "\n",
    "\n",
    "# Assumptions:\n",
    "# - It could not be solved until the vault was opened\n",
    "# - \"VI"
   ]
  },
  {
   "cell_type": "code",
   "execution_count": null,
   "metadata": {},
   "outputs": [],
   "source": [
    "def vigenere(\n",
    "        text: str, \n",
    "        key: str, \n",
    "        alphabet='ABCDEFGHIJKLMNOPQRSTUVWXYZ',\n",
    "        encrypt=True\n",
    "):\n",
    "\n",
    "    result = ''\n",
    "\n",
    "    for i in range(len(text)):\n",
    "        letter_n = alphabet.index(text[i])\n",
    "        key_n = alphabet.index(key[i % len(key)])\n",
    "\n",
    "        if encrypt:\n",
    "            value = (letter_n + key_n) % len(alphabet)\n",
    "        else:\n",
    "            value = (letter_n - key_n) % len(alphabet)\n",
    "\n",
    "        result += alphabet[value]\n",
    "\n",
    "    return result\n",
    "\n",
    "\n",
    "def vigenere_encrypt(text, key):\n",
    "    return vigenere(text=text, key=key, encrypt=True)\n",
    "\n",
    "\n",
    "def vigenere_decrypt(text, key):\n",
    "    return vigenere(text=text, key=key, encrypt=False)"
   ]
  },
  {
   "cell_type": "code",
   "execution_count": 64,
   "metadata": {},
   "outputs": [],
   "source": [
    "initial=1\n",
    "\n",
    "def str_to_letter_number(text):\n",
    "    return [ord(c)-ord('A')+initial for c in text]\n",
    "\n",
    "def ordinal_add(chars, offsets):\n",
    "    return [ (chars[i] + offsets[i]) % 25+initial for i in range(len(chars)) ]\n",
    "\n",
    "def letter_number_to_str(nums):\n",
    "    return \"\".join([chr(c + ord('A')+initial) for c in nums])"
   ]
  },
  {
   "cell_type": "code",
   "execution_count": 65,
   "metadata": {},
   "outputs": [
    {
     "name": "stdout",
     "output_type": "stream",
     "text": [
      "range(0, 3)\n"
     ]
    }
   ],
   "source": [
    "print(range(len(\"232\")))"
   ]
  },
  {
   "cell_type": "code",
   "execution_count": null,
   "metadata": {},
   "outputs": [
    {
     "name": "stdout",
     "output_type": "stream",
     "text": [
      "JYPFFQVY\n",
      "i=0\n",
      "8\n",
      "4\n",
      "i=1\n",
      "22\n",
      "4\n",
      "i=2\n",
      "14\n",
      "4\n",
      "i=3\n",
      "4\n",
      "4\n",
      "i=4\n",
      "4\n",
      "4\n",
      "i=5\n",
      "15\n",
      "4\n",
      "i=6\n",
      "19\n",
      "4\n",
      "i=7\n",
      "22\n",
      "4\n",
      "UNPHPGVA\n",
      "JYPFFQVY\n",
      "i=0\n",
      "8\n",
      "7\n",
      "i=1\n",
      "22\n",
      "7\n",
      "i=2\n",
      "14\n",
      "7\n",
      "i=3\n",
      "4\n",
      "7\n"
     ]
    },
    {
     "ename": "ValueError",
     "evalue": "substring not found",
     "output_type": "error",
     "traceback": [
      "\u001b[1;31m---------------------------------------------------------------------------\u001b[0m",
      "\u001b[1;31mValueError\u001b[0m                                Traceback (most recent call last)",
      "Cell \u001b[1;32mIn[66], line 3\u001b[0m\n\u001b[0;32m      1\u001b[0m out \u001b[38;5;241m=\u001b[39m vigenere_decrypt(plaque, \u001b[38;5;124m\"\u001b[39m\u001b[38;5;124mPLAY\u001b[39m\u001b[38;5;124m\"\u001b[39m)\n\u001b[0;32m      2\u001b[0m \u001b[38;5;28mprint\u001b[39m(out)\n\u001b[1;32m----> 3\u001b[0m out \u001b[38;5;241m=\u001b[39m \u001b[43mvigenere_decrypt\u001b[49m\u001b[43m(\u001b[49m\u001b[43mplaque\u001b[49m\u001b[43m,\u001b[49m\u001b[43m \u001b[49m\u001b[38;5;124;43m\"\u001b[39;49m\u001b[38;5;124;43mSHADOWS\u001b[39;49m\u001b[38;5;124;43m\"\u001b[39;49m\u001b[43m)\u001b[49m\n\u001b[0;32m      4\u001b[0m \u001b[38;5;28mprint\u001b[39m(out)\n\u001b[0;32m      5\u001b[0m out \u001b[38;5;241m=\u001b[39m vigenere_decrypt(plaque, \u001b[38;5;124m\"\u001b[39m\u001b[38;5;124mASTRAL\u001b[39m\u001b[38;5;124m\"\u001b[39m)\n",
      "Cell \u001b[1;32mIn[63], line 34\u001b[0m, in \u001b[0;36mvigenere_decrypt\u001b[1;34m(text, key)\u001b[0m\n\u001b[0;32m     33\u001b[0m \u001b[38;5;28;01mdef\u001b[39;00m \u001b[38;5;21mvigenere_decrypt\u001b[39m(text, key):\n\u001b[1;32m---> 34\u001b[0m     \u001b[38;5;28;01mreturn\u001b[39;00m \u001b[43mvigenere\u001b[49m\u001b[43m(\u001b[49m\u001b[43mtext\u001b[49m\u001b[38;5;241;43m=\u001b[39;49m\u001b[43mtext\u001b[49m\u001b[43m,\u001b[49m\u001b[43m \u001b[49m\u001b[43mkey\u001b[49m\u001b[38;5;241;43m=\u001b[39;49m\u001b[43mkey\u001b[49m\u001b[43m,\u001b[49m\u001b[43m \u001b[49m\u001b[43mencrypt\u001b[49m\u001b[38;5;241;43m=\u001b[39;49m\u001b[38;5;28;43;01mFalse\u001b[39;49;00m\u001b[43m)\u001b[49m\n",
      "Cell \u001b[1;32mIn[63], line 17\u001b[0m, in \u001b[0;36mvigenere\u001b[1;34m(text, key, alphabet, encrypt)\u001b[0m\n\u001b[0;32m     15\u001b[0m \u001b[38;5;28mprint\u001b[39m(letter_n)\n\u001b[0;32m     16\u001b[0m \u001b[38;5;28mprint\u001b[39m(\u001b[38;5;28mlen\u001b[39m(key))\n\u001b[1;32m---> 17\u001b[0m key_n \u001b[38;5;241m=\u001b[39m \u001b[43malphabet\u001b[49m\u001b[38;5;241;43m.\u001b[39;49m\u001b[43mindex\u001b[49m\u001b[43m(\u001b[49m\u001b[43mkey\u001b[49m\u001b[43m[\u001b[49m\u001b[43mi\u001b[49m\u001b[43m \u001b[49m\u001b[38;5;241;43m%\u001b[39;49m\u001b[43m \u001b[49m\u001b[38;5;28;43mlen\u001b[39;49m\u001b[43m(\u001b[49m\u001b[43mkey\u001b[49m\u001b[43m)\u001b[49m\u001b[43m]\u001b[49m\u001b[43m)\u001b[49m\n\u001b[0;32m     19\u001b[0m \u001b[38;5;28;01mif\u001b[39;00m encrypt:\n\u001b[0;32m     20\u001b[0m     value \u001b[38;5;241m=\u001b[39m (letter_n \u001b[38;5;241m+\u001b[39m key_n) \u001b[38;5;241m%\u001b[39m \u001b[38;5;28mlen\u001b[39m(alphabet)\n",
      "\u001b[1;31mValueError\u001b[0m: substring not found"
     ]
    }
   ],
   "source": [
    "out = vigenere_decrypt(plaque, \"PLAY\")\n",
    "print(out)\n",
    "out = vigenere_decrypt(out, \"SHADOWS\")\n",
    "print(out)\n",
    "out = vigenere_decrypt(out, \"ASTRAL\")\n",
    "print(out)\n",
    "out = str_to_letter_number(out)\n",
    "print(out)\n",
    "out = ordinal_add(out, [int(x) for x in \"11202024\"])\n",
    "print(out)\n",
    "out = ordinal_add(out, [int(x) for x in \"11202004\"])\n",
    "print(out)\n",
    "out = letter_number_to_str(out)\n",
    "print(out)"
   ]
  },
  {
   "cell_type": "code",
   "execution_count": 44,
   "metadata": {},
   "outputs": [
    {
     "name": "stdout",
     "output_type": "stream",
     "text": [
      "Iss\n",
      "snsa v koh\n"
     ]
    }
   ],
   "source": [
    "final = \"\"\"In catacombs with dusty pages\n",
    "As paladins or rogues or mages\n",
    "Through all the wars that never cease\n",
    "In search of hope\n",
    "In search of peace\n",
    "For all the journeys, in any weather,\n",
    "For adventures yet to come together\n",
    "The final key is why I stay:\n",
    "For you...\n",
    "For Azeroth...\"\"\"\n",
    "\n",
    "i=0\n",
    "out = \"\"\n",
    "while i < len(final):\n",
    "    out += final[i]\n",
    "    i += 20\n",
    "print(out)"
   ]
  }
 ],
 "metadata": {
  "kernelspec": {
   "display_name": "Python 3",
   "language": "python",
   "name": "python3"
  },
  "language_info": {
   "codemirror_mode": {
    "name": "ipython",
    "version": 3
   },
   "file_extension": ".py",
   "mimetype": "text/x-python",
   "name": "python",
   "nbconvert_exporter": "python",
   "pygments_lexer": "ipython3",
   "version": "3.12.8"
  }
 },
 "nbformat": 4,
 "nbformat_minor": 2
}
