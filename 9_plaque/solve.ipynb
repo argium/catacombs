{
 "cells": [
  {
   "cell_type": "code",
   "execution_count": 62,
   "metadata": {},
   "outputs": [],
   "source": [
    "plaque = \"JYPFFQVY\"\n",
    "\n",
    "\n",
    "# \"IATIIFFTFF\" \n",
    "# [5, 6, 7, 4, 4, 7, 6, 7, 2, 2]\n",
    "\n",
    "\n",
    "# The missing rhyme         PLAY\n",
    "# The crystal's glow        18 <-- the missing owl watcher book.  Could be XVIII, too.\n",
    "# The stars above           ASTRAL\n",
    "# The space below           JYPFFQVY\n",
    "# The time of now           11232024\n",
    "# for long ago              11232004\n",
    "\n",
    "# The missing rhyme         PLAY\n",
    "# The crystal's glow        SHADOWS   18 <-- the missing owl watcher book.  Could be XVIII, too.\n",
    "# The stars above           ASTRAL\n",
    "# The space below           JYPFFQVY\n",
    "# The time of now           11232024\n",
    "# for long ago              11232004\n",
    "\n",
    "\n",
    "# Assumptions:\n",
    "# - It could not be solved until the vault was opened\n",
    "# - \"VI"
   ]
  },
  {
   "cell_type": "code",
   "execution_count": 67,
   "metadata": {},
   "outputs": [],
   "source": [
    "def vigenere(\n",
    "        text: str, \n",
    "        key: str, \n",
    "        alphabet='ABCDEFGHIJKLMNOPQRSTUVWXYZ',\n",
    "        encrypt=True\n",
    "):\n",
    "\n",
    "    result = ''\n",
    "\n",
    "    for i in range(len(text)):\n",
    "        letter_n = alphabet.index(text[i])\n",
    "        key_n = alphabet.index(key[i % len(key)])\n",
    "\n",
    "        if encrypt:\n",
    "            value = (letter_n + key_n) % len(alphabet)\n",
    "        else:\n",
    "            value = (letter_n - key_n) % len(alphabet)\n",
    "\n",
    "        result += alphabet[value]\n",
    "\n",
    "    return result\n",
    "\n",
    "\n",
    "def vigenere_encrypt(text, key):\n",
    "    return vigenere(text=text, key=key, encrypt=True)\n",
    "\n",
    "\n",
    "def vigenere_decrypt(text, key):\n",
    "    return vigenere(text=text, key=key, encrypt=False)"
   ]
  },
  {
   "cell_type": "code",
   "execution_count": 64,
   "metadata": {},
   "outputs": [],
   "source": [
    "initial=1\n",
    "\n",
    "def str_to_letter_number(text):\n",
    "    return [ord(c)-ord('A')+initial for c in text]\n",
    "\n",
    "def ordinal_add(chars, offsets):\n",
    "    return [ (chars[i] + offsets[i]) % 25+initial for i in range(len(chars)) ]\n",
    "\n",
    "def letter_number_to_str(nums):\n",
    "    return \"\".join([chr(c + ord('A')+initial) for c in nums])"
   ]
  },
  {
   "cell_type": "code",
   "execution_count": 65,
   "metadata": {},
   "outputs": [
    {
     "name": "stdout",
     "output_type": "stream",
     "text": [
      "range(0, 3)\n"
     ]
    }
   ],
   "source": [
    "print(range(len(\"232\")))"
   ]
  },
  {
   "cell_type": "code",
   "execution_count": 68,
   "metadata": {},
   "outputs": [
    {
     "name": "stdout",
     "output_type": "stream",
     "text": [
      "UNPHQFVA\n",
      "CGPECJDI\n",
      "COWNCYDQ\n",
      "[3, 15, 23, 14, 3, 25, 4, 17]\n",
      "[5, 17, 1, 15, 6, 1, 7, 22]\n",
      "[7, 19, 4, 16, 9, 2, 8, 2]\n",
      "IUFRKDJD\n"
     ]
    }
   ],
   "source": [
    "out = vigenere_decrypt(plaque, \"PLAY\")\n",
    "print(out)\n",
    "out = vigenere_decrypt(out, \"SHADOWS\")\n",
    "print(out)\n",
    "out = vigenere_decrypt(out, \"ASTRAL\")\n",
    "print(out)\n",
    "out = str_to_letter_number(out)\n",
    "print(out)\n",
    "out = ordinal_add(out, [int(x) for x in \"11202024\"])\n",
    "print(out)\n",
    "out = ordinal_add(out, [int(x) for x in \"11202004\"])\n",
    "print(out)\n",
    "out = letter_number_to_str(out)\n",
    "print(out)"
   ]
  },
  {
   "cell_type": "code",
   "execution_count": 44,
   "metadata": {},
   "outputs": [
    {
     "name": "stdout",
     "output_type": "stream",
     "text": [
      "Iss\n",
      "snsa v koh\n"
     ]
    }
   ],
   "source": [
    "final = \"\"\"In catacombs with dusty pages\n",
    "As paladins or rogues or mages\n",
    "Through all the wars that never cease\n",
    "In search of hope\n",
    "In search of peace\n",
    "For all the journeys, in any weather,\n",
    "For adventures yet to come together\n",
    "The final key is why I stay:\n",
    "For you...\n",
    "For Azeroth...\"\"\"\n",
    "\n",
    "i=0\n",
    "out = \"\"\n",
    "while i < len(final):\n",
    "    out += final[i]\n",
    "    i += 20\n",
    "print(out)"
   ]
  }
 ],
 "metadata": {
  "kernelspec": {
   "display_name": "Python 3",
   "language": "python",
   "name": "python3"
  },
  "language_info": {
   "codemirror_mode": {
    "name": "ipython",
    "version": 3
   },
   "file_extension": ".py",
   "mimetype": "text/x-python",
   "name": "python",
   "nbconvert_exporter": "python",
   "pygments_lexer": "ipython3",
   "version": "3.12.8"
  }
 },
 "nbformat": 4,
 "nbformat_minor": 2
}
