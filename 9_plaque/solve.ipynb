{
 "cells": [
  {
   "cell_type": "code",
   "execution_count": 2,
   "metadata": {},
   "outputs": [
    {
     "name": "stdout",
     "output_type": "stream",
     "text": [
      "JYPFFQVY [10, 25, 16, 6, 6, 17, 22, 25]\n",
      "IXNCDQTU [9, 24, 14, 3, 4, 17, 20, 21]\n",
      "CIWJWLHF [3, 9, 23, 10, 23, 12, 8, 6]\n",
      "HDHDG GH [8, 4, 8, 4, 7, 0, 7, 8]\n"
     ]
    }
   ],
   "source": [
    "def pprint(s):\n",
    "    print(s + \" \" + str([zeroth_alphabet.index(c) for c in s]))\n",
    "\n",
    "def number_shift(text, offsets, alphabet):\n",
    "    result = ''\n",
    "\n",
    "    for i in range(len(text)):\n",
    "        letter_n = alphabet.index(text[i])\n",
    "        offset = int(offsets[i])\n",
    "        value = (letter_n + offset) % len(alphabet)\n",
    "        result += alphabet[value]\n",
    "\n",
    "    return result\n",
    "\n",
    "zeroth_alphabet=' ABCDEFGHIJKLMNOPQRSTUVWXYZ'\n",
    "\n",
    "CODE  = \"JYPFFQVY\"\n",
    "DATE  = \"11232024\"\n",
    "CODE2 = \"FORTHELO\"\n",
    "CODE3 = \"VEOFPLAY\"\n",
    "\n",
    "pprint(CODE)\n",
    "a = number_shift(CODE, [-1 * int(c) for c in DATE], zeroth_alphabet)\n",
    "pprint(a)\n",
    "b = number_shift(a, [-1 * zeroth_alphabet.index(c) for c in CODE2], zeroth_alphabet)\n",
    "pprint(b)\n",
    "c = number_shift(b, [-1 * zeroth_alphabet.index(c) for c in CODE3], zeroth_alphabet)\n",
    "pprint(c)"
   ]
  }
 ],
 "metadata": {
  "language_info": {
   "name": "python"
  }
 },
 "nbformat": 4,
 "nbformat_minor": 2
}
