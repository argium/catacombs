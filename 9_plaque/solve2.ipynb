{
 "cells": [
  {
   "cell_type": "markdown",
   "metadata": {},
   "source": [
    "**On localisation:**\n",
    "\n",
    "Given\n",
    "\n",
    "- The result is either a word that leads to the code or the code itself\n",
    "\n",
    "when performing operations, the result can be:\n",
    "\n",
    "```\n",
    "Localised + localised = localised OR invariant\n",
    "Localised + invariant = localised\n",
    "Invariant + invariant = invariant\n",
    "```"
   ]
  },
  {
   "cell_type": "code",
   "execution_count": 71,
   "metadata": {},
   "outputs": [],
   "source": [
    "C_alphabet_with_numbers='01233456789ABCDEFGHIJKLMNOPQRSTUVWXYZ'\n",
    "C_alphabet='ABCDEFGHIJKLMNOPQRSTUVWXYZ'\n",
    "C_alphabet0='ABCDEFGHIJKLMNOPQRSTUVWXYZ01233456789'\n",
    "\n",
    "def vigenere(\n",
    "        text: str, \n",
    "        key: str,\n",
    "        alphabet=C_alphabet,\n",
    "        encrypt=True\n",
    "):\n",
    "\n",
    "    result = ''\n",
    "\n",
    "    for i in range(len(text)):\n",
    "        letter_n = alphabet.index(text[i])\n",
    "        key_n = alphabet.index(key[i % len(key)])\n",
    "\n",
    "        if encrypt:\n",
    "            value = (letter_n + key_n) % len(alphabet)\n",
    "        else:\n",
    "            value = (letter_n - key_n) % len(alphabet)\n",
    "\n",
    "        result += alphabet[value]\n",
    "\n",
    "    return result\n",
    "\n",
    "def vigenere_encrypt(text, key):\n",
    "    return vigenere(text=text, key=key, encrypt=True)\n",
    "\n",
    "def vigenere_decrypt(text, key):\n",
    "    return vigenere(text=text, key=key, encrypt=False)\n",
    "\n",
    "def str_to_letter_number(text):\n",
    "    return [ord(c)-ord('A') for c in text]\n",
    "\n",
    "def ordinal_add(text, offsets, alphabet=C_alphabet):\n",
    "    result = ''\n",
    "\n",
    "    for i in range(len(text)):\n",
    "        letter_n = alphabet.index(text[i])\n",
    "        if i >= len(offsets):\n",
    "            print(len(text))\n",
    "            print(len(offsets))\n",
    "            print(\"wat\")\n",
    "        offset = int(offsets[i])\n",
    "        value = (letter_n + offset) % len(alphabet)\n",
    "        result += alphabet[value]\n",
    "\n",
    "    return result\n",
    "\n",
    "def letter_number_to_str(nums):\n",
    "    return \"\".join([chr(c + ord('A')) for c in nums])\n",
    "\n",
    "# What if we assume that the result is in the range: ABCDEFGHIJ which can be converted straight to 0-9?\n",
    "# Then we can calculate a \"distance\" from the desired character space.\n",
    "def distance_str(text):\n",
    "    return f\"{text} (distance={distance(text)})\"\n",
    "\n",
    "def distance(text):\n",
    "    result=[]\n",
    "    for c in text:\n",
    "        o = ord(c)-ord('A')\n",
    "        if o >= 0 and o <= 9:\n",
    "            result+=[0]\n",
    "        else:\n",
    "            result+= [min(o-8, ord('Z')-ord(c)+1)]\n",
    "    return result\n",
    "\n",
    "def vigenere_decrypt_n(text, keys):\n",
    "    texts = [text]\n",
    "    for key in keys:\n",
    "        text = vigenere(text, key, C_alphabet, False)\n",
    "        texts += [text]\n",
    "    \n",
    "    print(\"\\n\".join([distance_str(s) for s in texts]))\n",
    "    return text"
   ]
  },
  {
   "cell_type": "markdown",
   "metadata": {},
   "source": [
    "## Journal\n",
    "\n",
    "In catacombs with dusty pages\n",
    "\n",
    "As paladins or rogues or mages\n",
    "\n",
    "Through all the wars that never cease\n",
    "\n",
    "In search of hope\n",
    "\n",
    "In search of peace\n",
    "\n",
    "For all the journeys, in any weather, \n",
    "\n",
    "For adventures yet to come together\n",
    "\n",
    "The final key is why I stay\n",
    "\n",
    "For you\n",
    "\n",
    "For Azeroth\n",
    "\n",
    "## Cryptic Plaque\n",
    "\n",
    "To be like me you'll need to know\n",
    "\n",
    "The missing rhyme\n",
    "\n",
    "The crystal's glow\n",
    "\n",
    "The stars above\n",
    "\n",
    "The space below\n",
    "\n",
    "The time of now\n",
    "\n",
    "for long ago\n",
    "\n",
    "JYPFFQVY"
   ]
  },
  {
   "cell_type": "markdown",
   "metadata": {},
   "source": [
    "## Hypothesis: series of vigenere ciphers\n",
    "\n",
    "**FACTS:**\n",
    " - It could not be solved until the vault was opened\n",
    " - We have all the information required.\n",
    " - The code on the plaque is localised\n",
    " - Ratts is cheeky\n",
    "\n",
    "**ASSUMPTIONS:**\n",
    " - The result is a word that leads to the code\n",
    " - The presence of symbols and hex in code's localisations indicates that the characters as converted integers at some stage\n",
    " - Each line of the plaque's text relates to another word in the catacombs\n",
    " - The character 'A' is at index 0\n",
    " - Each step accepts and returns 8 characters (or a multiple thereof) that matches the datetime of the anniversary, too."
   ]
  },
  {
   "cell_type": "code",
   "execution_count": 70,
   "metadata": {},
   "outputs": [
    {
     "name": "stdout",
     "output_type": "stream",
     "text": [
      "JYPFFQVY (distance =[0, 2, 7, 0, 0, 8, 5, 2])\n",
      "QYHUMQNN (distance =[8, 2, 0, 6, 4, 8, 5, 5])\n",
      "BUHSIBJN (distance =[0, 6, 0, 8, 0, 0, 0, 5])\n",
      "UGSOBNUJ (distance =[6, 0, 8, 6, 0, 5, 6, 0])\n",
      "NSGKUZIF (distance =[5, 8, 0, 2, 6, 1, 0, 0])\n",
      "MKPRNWIH (distance =[4, 2, 7, 9, 5, 4, 0, 0])\n",
      "XZPTYLIJ (distance =[3, 1, 7, 7, 2, 3, 0, 0])\n"
     ]
    }
   ],
   "source": [
    "CODE = \"JYPFFQVY\"\n",
    "# KEYS = [\"TAIL\", \"PEACE\", \"HOPE\", \"CATACOMB\"]\n",
    "# KEYS = [\"TAIL\", \"HOPE\", \"VIG\", \"PEACE\"]\n",
    "KEYS = [\"TAIL\", \"PEACE\", \"HOPE\", \"HOME\", \"BIRTHDAY\", \"PLAY\"]\n",
    "t = vigenere_decrypt_n(CODE, KEYS)\n"
   ]
  },
  {
   "cell_type": "code",
   "execution_count": null,
   "metadata": {},
   "outputs": [
    {
     "name": "stdout",
     "output_type": "stream",
     "text": [
      "JYPFFQVY (distance=[0, 2, 7, 0, 0, 8, 5, 2])\n",
      "CKABYCGU (distance=[0, 2, 0, 0, 2, 0, 0, 6])\n",
      "NTADJLGW (distance=[5, 7, 0, 0, 0, 3, 0, 4])\n",
      "GFOZCXUS (distance=[0, 0, 6, 1, 0, 3, 6, 8])\n",
      "FXXGVUUU (distance=[0, 3, 3, 0, 5, 6, 6, 6])\n",
      "QMXIGJUW (distance=[8, 4, 3, 0, 0, 0, 6, 4])\n"
     ]
    }
   ],
   "source": [
    "CODE = \"JYPFFQVY\"\n",
    "KEYS = [\"PLAY\", \"HOPE\", \"PRAY\", \"HOME\", \"BIRTHDAY\"]\n",
    "t = vigenere_decrypt_n(CODE, KEYS)\n"
   ]
  },
  {
   "cell_type": "markdown",
   "metadata": {},
   "source": [
    "### Hypothesis: series of keys, reverse\n"
   ]
  },
  {
   "cell_type": "code",
   "execution_count": 76,
   "metadata": {},
   "outputs": [
    {
     "name": "stdout",
     "output_type": "stream",
     "text": [
      "JYPFFQVY (distance=[0, 2, 7, 0, 0, 8, 5, 2])\n",
      "YQPMUIVF (distance=[2, 8, 7, 4, 6, 0, 5, 0])\n",
      "UOPIFETF (distance=[6, 6, 7, 0, 0, 0, 7, 0])\n",
      "QZBBBPFY (distance=[8, 1, 0, 0, 0, 7, 0, 2])\n",
      "MNNUXDRR (distance=[4, 5, 5, 6, 3, 0, 9, 9])\n",
      "ONKNEMJQ (distance=[6, 5, 2, 5, 0, 4, 0, 8])\n",
      "QNZYGMYB (distance=[8, 5, 1, 2, 0, 4, 2, 0])\n"
     ]
    }
   ],
   "source": [
    "CODE = \"JYPFFQVY\"\n",
    "KEYS = [\"TAIL\", \"PEACE\", \"HOPE\", \"HOME\", \"BIRTHDAY\", \"PLAY\"]\n",
    "KEYS = [''.join(reversed(k)) for k in KEYS]\n",
    "t = vigenere_decrypt_n(CODE, KEYS)\n"
   ]
  },
  {
   "cell_type": "markdown",
   "metadata": {},
   "source": [
    "## Hypothesis: series of steps using text in the catacombs, vignere ciphers, and shifts\n",
    "\n",
    "**FACTS:**\n",
    " - It could not be solved until the vault was opened\n",
    " - We have all the information required.\n",
    " - The code on the plaque is localised\n",
    " - Ratts is cheeky\n",
    "\n",
    "**ASSUMPTIONS:**\n",
    " - The result is either a word that leads to the code or the code itself\n",
    " - The presence of symbols and hex in code's localisations indicates that the characters as converted integers at some stage\n",
    "\n",
    " - The plaque's text is meant to be taken more literally \n",
    " - The character 'A' is at index 0\n",
    " - Each step accepts and returns 8 characters (or a multiple thereof). Matches the datetime of the anniversary, too.\n",
    " - Unnecessary capitalisations, when present, may be significant (eg. Veil and Tail)\n",
    " - The solution itself it not in the plaque - even encrypted - because it would be too suceptible to brute force attacks and guesses."
   ]
  },
  {
   "cell_type": "code",
   "execution_count": 159,
   "metadata": {},
   "outputs": [
    {
     "name": "stdout",
     "output_type": "stream",
     "text": [
      "C = WVT18VIG P = CX3LT4NI P' = DY4OV4PM F = OCUQ5JEO\n",
      "C = WVT17VIG P = CX3LS4NI P' = DY4OU4PM F = OCUQ4JEO\n",
      "C = WVTZGVIG P = CX3J14NI P' = DY4M34PM F = OCUODJEO\n",
      "C = WVTUPVIG P = CX3E94NI P' = DY4HB4PM F = OCUJMJEO\n",
      "R[hyme] = DOOMTOMB C = BMMKRMK9 C' = BMMKRMK9 P = 3Z7FM60M P' = 309IO62Q F = OP9V9W23\n",
      "R[hyme] = DOOMTOMB C = BMMKRMK9 C' = BMMKRMK9 P = 3Z7FM60M P' = 2Y5CK6YI F = NN5P5WYV\n",
      "R[hyme] = DOOMTOMB C = U443943S C' = U443943S P = LHQY4PI4 P' = MIS16PK8 F = 77SDSEKL\n",
      "R[hyme] = DOOMTOMB C = U443943S C' = U443943S P = LHQY4PI4 P' = KGOV3PG1 F = 55O7OEGD\n",
      "R[hyme] = DOOMTOMB C = V553A53T C' = V553A53T P = MIRY5QI5 P' = NJT17QK9 F = 88TDTFKM\n",
      "R[hyme] = DOOMTOMB C = V553A53T C' = V553A53T P = MIRY5QI5 P' = LHPV3QG2 F = 66P7OFGE\n",
      "R[hyme] = DOOMTOMB C = ITTRYTRG C' = ITTRYTRG P = 95EMTD6T P' = A6GPVD8X F = WWG2G389\n",
      "R[hyme] = DOOMTOMB C = ITTRYTRG C' = ITTRYTRG P = 95EMTD6T P' = 84CJRD4P F = UUCWC342\n",
      "R[hyme] = TAILBLUE C = R8GJ9JSC C' = R8GJ9JSC P = IL2E437P P' = JM3H639T F = 4B3USS95\n",
      "R[hyme] = TAILBLUE C = R8GJ9JSC C' = R8GJ9JSC P = IL2E437P P' = HK0B335L F = 390OOS5Y\n",
      "R[hyme] = TAILBLUE C = 9RZ2S2AV C' = 9RZ2S2AV P = 13KXNMQ7 P' = 23M0PMSB F = NSMCABSO\n",
      "R[hyme] = TAILBLUE C = 9RZ2S2AV C' = 9RZ2S2AV P = 13KXNMQ7 P' = 02IULMO3 F = LRI66BOF\n",
      "R[hyme] = TAILBLUE C = AS03T3BW C' = AS03T3BW P = 24LYONR8 P' = 35N1QNTC F = OVNDBCTP\n",
      "R[hyme] = TAILBLUE C = AS03T3BW C' = AS03T3BW P = 24LYONR8 P' = 13JVMNP4 F = MSJ77CPH\n",
      "R[hyme] = TAILBLUE C = YFNQGQZJ C' = YFNQGQZJ P = PS8LBAEW P' = QTAODAG0 F = BIA1Z0GC\n",
      "R[hyme] = TAILBLUE C = YFNQGQZJ C' = YFNQGQZJ P = PS8LBAEW P' = OR6I9ACS F = 9G6VV0C4\n"
     ]
    }
   ],
   "source": [
    "WVT = \"WVT\"\n",
    "glow = \"\"\n",
    "VIG = \"VIG\"\n",
    "CODE = \"JYPFFQVY\"\n",
    "TIME = \"11232024\"\n",
    "\n",
    "def solve(rhyme, glow, above, below, time, final_key):\n",
    "    ciphertext = rhyme + glow + above\n",
    "    # print(\"C   = \" + ciphertext)\n",
    "    plaintext = vigenere(ciphertext, below, C_alphabet_with_numbers, False) \n",
    "    # print(\"P   = \" + plaintext)\n",
    "    # Shift using the anniversary date\n",
    "    plaintext_shifted = ordinal_add(plaintext, time, C_alphabet_with_numbers)\n",
    "    # print(\"P'  = \" + plaintext_shifted)\n",
    "    final = vigenere(plaintext_shifted, final_key, C_alphabet_with_numbers, False)\n",
    "    # print(\"P'' = \" + final)\n",
    "    print(\"C = \"+ciphertext +\" P = \" + plaintext + \" P' = \" +plaintext_shifted + \" F = \" + final)\n",
    "\n",
    "solve(WVT, \"18\", VIG, CODE, TIME, \"PLAY\")\n",
    "solve(WVT, \"17\", VIG, CODE, TIME, \"PLAY\")\n",
    "solve(WVT, \"ZG\", VIG, CODE, TIME, \"PLAY\")\n",
    "solve(WVT, \"UP\", VIG, CODE, TIME, \"PLAY\")\n",
    "\n",
    "# TIME = [-1 * int(c) for c in TIME]\n",
    "# solve(WVT, \"18\", VIG, CODE, TIME, \"PLAY\")\n",
    "# solve(WVT, \"17\", VIG, CODE, TIME, \"PLAY\")\n",
    "# solve(WVT, \"ZG\", VIG, CODE, TIME, \"PLAY\")\n",
    "# solve(WVT, \"UP\", VIG, CODE, TIME, \"PLAY\")\n",
    "\n",
    "# Possible values for GLOW are mostly numbers so to keep the length matching\n",
    "# code, WVT and VIG need to change.\n",
    "\n",
    "\n",
    "def solve_glow_is_shift(rhyme, glow, below, time, final_key):\n",
    "    ciphertext = ordinal_add(rhyme, glow, C_alphabet0)\n",
    "    ciphertext_shifted = ordinal_add(rhyme, glow, C_alphabet0)\n",
    "    # The stars above (vigenere using the SPACE BELOW as the key)\n",
    "    plaintext = vigenere(ciphertext, below, C_alphabet0, False)\n",
    "    plaintext_shifted = ordinal_add(plaintext, time, C_alphabet0)\n",
    "    final = vigenere(plaintext_shifted, final_key, C_alphabet0, False)\n",
    "    print(f\"R[hyme] = {rhyme} C = {ciphertext} C' = {ciphertext_shifted} P = {plaintext} P' = {plaintext_shifted} F = {final}\")\n",
    "\n",
    "\n",
    "RHYMES = [\"DOOMTOMB\", \"TAILBLUE\"]\n",
    "GLOWS_AS_SHIFT = [-2, 17, 18, 5]\n",
    "\n",
    "for rhyme in RHYMES:\n",
    "    for glow in GLOWS_AS_SHIFT:\n",
    "        solve_glow_is_shift(rhyme, [glow]*len(rhyme), CODE, TIME, \"PLAY\")\n",
    "        solve_glow_is_shift(rhyme, [glow]*len(rhyme), CODE, [-1 * int(c) for c in TIME], \"PLAY\")\n",
    "\n",
    "\n"
   ]
  }
 ],
 "metadata": {
  "kernelspec": {
   "display_name": "Python 3",
   "language": "python",
   "name": "python3"
  },
  "language_info": {
   "codemirror_mode": {
    "name": "ipython",
    "version": 3
   },
   "file_extension": ".py",
   "mimetype": "text/x-python",
   "name": "python",
   "nbconvert_exporter": "python",
   "pygments_lexer": "ipython3",
   "version": "3.12.8"
  }
 },
 "nbformat": 4,
 "nbformat_minor": 2
}
